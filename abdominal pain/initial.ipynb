{
 "cells": [
  {
   "cell_type": "code",
   "execution_count": 5,
   "metadata": {},
   "outputs": [],
   "source": [
    "import AAP"
   ]
  },
  {
   "cell_type": "code",
   "execution_count": 6,
   "metadata": {},
   "outputs": [
    {
     "name": "stdout",
     "output_type": "stream",
     "text": [
      "Hello world, 안녕하세요. 학생의사 김대성입니다.\n"
     ]
    }
   ],
   "source": [
    "#인사\n",
    "print(\"Hello world, 안녕하세요. 학생의사 김대성입니다.\")"
   ]
  },
  {
   "cell_type": "code",
   "execution_count": 7,
   "metadata": {},
   "outputs": [
    {
     "name": "stdout",
     "output_type": "stream",
     "text": [
      "환자분 성함과 생년월일을 말씀해 주실 수 있나요?\n"
     ]
    }
   ],
   "source": [
    "#환자 정보 확인\n",
    "print(\"환자분 성함과 생년월일을 말씀해 주실 수 있나요?\")\n",
    "p_name = input(\"이름: \")\n",
    "p_birthday = input(\"생년월일: (yy/mm/dd)\")\n",
    "p_sex = input(\"성별: (M/F)\")\n",
    "p_age = input(\"나이: \")"
   ]
  },
  {
   "cell_type": "code",
   "execution_count": 8,
   "metadata": {},
   "outputs": [
    {
     "name": "stdout",
     "output_type": "stream",
     "text": [
      "어떻게 아프셔서 오셨을까요?\n"
     ]
    }
   ],
   "source": [
    "#환자 주호소 확인\n",
    "print(\"어떻게 아프셔서 오셨을까요?\")\n",
    "p_cc = input(\"주호소: (Acute Abdominal Pain - AAP\")\n",
    "\n",
    "if p_cc == \"AAP\":\n",
    "    AAP.patient(p_name, p_age, AAP.chiefcomplaint(\"Acute\", \"Abdominal\", \"Pain\", \"Sharp\"))\n"
   ]
  },
  {
   "cell_type": "code",
   "execution_count": null,
   "metadata": {},
   "outputs": [],
   "source": []
  }
 ],
 "metadata": {
  "kernelspec": {
   "display_name": "Python 3",
   "language": "python",
   "name": "python3"
  },
  "language_info": {
   "codemirror_mode": {
    "name": "ipython",
    "version": 3
   },
   "file_extension": ".py",
   "mimetype": "text/x-python",
   "name": "python",
   "nbconvert_exporter": "python",
   "pygments_lexer": "ipython3",
   "version": "3.11.0 (v3.11.0:deaf509e8f, Oct 24 2022, 14:43:23) [Clang 13.0.0 (clang-1300.0.29.30)]"
  },
  "orig_nbformat": 4,
  "vscode": {
   "interpreter": {
    "hash": "aee8b7b246df8f9039afb4144a1f6fd8d2ca17a180786b69acc140d282b71a49"
   }
  }
 },
 "nbformat": 4,
 "nbformat_minor": 2
}
